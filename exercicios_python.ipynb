{
  "cells": [
    {
      "cell_type": "markdown",
      "metadata": {
        "id": "nIytd0HW_EFG"
      },
      "source": [
        "# Exercícios"
      ]
    },
    {
      "cell_type": "markdown",
      "metadata": {
        "id": "MMxsdqt6_EFP"
      },
      "source": [
        "1. Escreva um algoritmo que imprima na tela: Olá Mundo!"
      ]
    },
    {
      "cell_type": "code",
      "execution_count": null,
      "metadata": {
        "colab": {
          "base_uri": "https://localhost:8080/"
        },
        "id": "yWv-z1_a_EFQ",
        "outputId": "6076990d-d505-4706-b149-ceb61cbbe39b"
      },
      "outputs": [
        {
          "output_type": "stream",
          "name": "stdout",
          "text": [
            "Olá Mundo!\n"
          ]
        }
      ],
      "source": [
        "print(\"Olá Mundo!\")"
      ]
    },
    {
      "cell_type": "markdown",
      "metadata": {
        "id": "hKythhrv_EFR"
      },
      "source": [
        "2. Escreva um programa que imprima seu nome na tela."
      ]
    },
    {
      "cell_type": "code",
      "execution_count": null,
      "metadata": {
        "colab": {
          "base_uri": "https://localhost:8080/"
        },
        "id": "wlhlGkb-_EFS",
        "outputId": "5340e186-6d56-48f2-9630-cd089a76dbf1"
      },
      "outputs": [
        {
          "output_type": "stream",
          "name": "stdout",
          "text": [
            "João Victor Ferraz\n"
          ]
        }
      ],
      "source": [
        "nome = \"João Victor Ferraz\"\n",
        "print(nome)"
      ]
    },
    {
      "cell_type": "markdown",
      "metadata": {
        "id": "y0AoqmyO_EFS"
      },
      "source": [
        "3. O que o código a seguir imprime?\n",
        "\n",
        "```python\n",
        "print(\"*\\n**\\n***\\n****\\n*****\")\n",
        "```"
      ]
    },
    {
      "cell_type": "code",
      "execution_count": null,
      "metadata": {
        "colab": {
          "base_uri": "https://localhost:8080/",
          "height": 130
        },
        "id": "rpFQdcZG_EFT",
        "outputId": "1040ca5b-8fed-4193-9a99-8b970726e8e9"
      },
      "outputs": [
        {
          "output_type": "error",
          "ename": "SyntaxError",
          "evalue": "ignored",
          "traceback": [
            "\u001b[0;36m  File \u001b[0;32m\"<ipython-input-3-a089d412f594>\"\u001b[0;36m, line \u001b[0;32m1\u001b[0m\n\u001b[0;31m    *\u001b[0m\n\u001b[0m     ^\u001b[0m\n\u001b[0;31mSyntaxError\u001b[0m\u001b[0;31m:\u001b[0m invalid syntax\n"
          ]
        }
      ],
      "source": [
        "*\n",
        "**\n",
        "***\n",
        "****\n",
        "*****"
      ]
    },
    {
      "cell_type": "markdown",
      "metadata": {
        "id": "kK1qDlaE_EFU"
      },
      "source": [
        "4. O que aparece na janela do console, quando cada uma das instruções abaixo são executadas, para: x = 2 e y = 3? Execute cada uma das linhas abaixos e, se necessário, faça os devidos ajustes no código.\n",
        "    1. *print(“x = ” + x);*\n",
        "    2. *print(“O valor de x + x é ” + (x + x));*\n",
        "    3. *print(“x = ”);*\n",
        "    4. *print((x + y) + “ = “ + (y + x));*\n"
      ]
    },
    {
      "cell_type": "code",
      "execution_count": null,
      "metadata": {
        "colab": {
          "base_uri": "https://localhost:8080/"
        },
        "id": "LsTVaVX6_EFV",
        "outputId": "d37c426d-e122-4b6d-c20e-906e73dfe92a"
      },
      "outputs": [
        {
          "output_type": "stream",
          "name": "stdout",
          "text": [
            "x =  2\n",
            "O valor de x + x é  4\n",
            "x = \n",
            "5  =  5\n"
          ]
        }
      ],
      "source": [
        "x = 2\n",
        "y = 3\n",
        "print('x = ', x)\n",
        "print(\"O valor de x + x é \", +(x + x))\n",
        "print('x = ')\n",
        "print((x + y), ' = ', + (y + x))"
      ]
    },
    {
      "cell_type": "markdown",
      "metadata": {
        "id": "M0zS8YiP_EFV"
      },
      "source": [
        "5. Escreva um algoritmo que imprima na tela a seguinte mensagem:\n",
        "\n",
        "> A programação é aprendida escrevendo programas - \n",
        "> Brian Kernighan\n"
      ]
    },
    {
      "cell_type": "code",
      "execution_count": null,
      "metadata": {
        "colab": {
          "base_uri": "https://localhost:8080/"
        },
        "id": "pfoKxi_1_EFW",
        "outputId": "63a161e9-7bc3-4e53-ae9e-32e2931fea99"
      },
      "outputs": [
        {
          "output_type": "stream",
          "name": "stdout",
          "text": [
            "A programação é aprendida escrevendo programas - Brian Kernighan\n"
          ]
        }
      ],
      "source": [
        "frase = \"A programação é aprendida escrevendo programas\"\n",
        "autor = \"Brian Kernighan\"\n",
        "print(frase, '-', autor)"
      ]
    },
    {
      "cell_type": "markdown",
      "metadata": {
        "id": "Q2oa0XFW_EFW"
      },
      "source": [
        "6. Crie um algoritmo que imprima o produto entre os números 25 e 27"
      ]
    },
    {
      "cell_type": "code",
      "execution_count": null,
      "metadata": {
        "colab": {
          "base_uri": "https://localhost:8080/"
        },
        "id": "dtPRZQjl_EFX",
        "outputId": "3f9b34ce-ae35-487b-c9e2-fcbd4b3f2c56"
      },
      "outputs": [
        {
          "output_type": "stream",
          "name": "stdout",
          "text": [
            "675\n"
          ]
        }
      ],
      "source": [
        "x = 25\n",
        "y = 27\n",
        "produto = x * y\n",
        "print(produto)"
      ]
    },
    {
      "cell_type": "markdown",
      "metadata": {
        "id": "WSypkTF4_EFX"
      },
      "source": [
        "7. Crie um algoritmo que imprima a média aritmética entre os números 4, 12, 15."
      ]
    },
    {
      "cell_type": "code",
      "execution_count": null,
      "metadata": {
        "colab": {
          "base_uri": "https://localhost:8080/"
        },
        "id": "IKfDnLIZ_EFY",
        "outputId": "9590c92c-b863-4fa3-d214-02cb94d356c7"
      },
      "outputs": [
        {
          "output_type": "stream",
          "name": "stdout",
          "text": [
            "10.333333333333334\n"
          ]
        }
      ],
      "source": [
        "numer1 = 4\n",
        "numer2 = 12\n",
        "numer3 = 15\n",
        "soma = numer1 + numer2 + numer3 \n",
        "div = 3\n",
        "media = soma / div\n",
        "print(media)"
      ]
    },
    {
      "cell_type": "markdown",
      "metadata": {
        "id": "NdKJHm1O_EFY"
      },
      "source": [
        "8. Faça um programa que leia um número inteiro e mostre-o na tela da seguinte forma: \n",
        "\n",
        "> O número inteiro digitado foi 4."
      ]
    },
    {
      "cell_type": "code",
      "execution_count": null,
      "metadata": {
        "colab": {
          "base_uri": "https://localhost:8080/"
        },
        "id": "EYsR-Oze_EFZ",
        "outputId": "28b4e477-3843-4693-dabc-032d1b793e67"
      },
      "outputs": [
        {
          "output_type": "stream",
          "name": "stdout",
          "text": [
            "Escreva um número inteiro: 4\n",
            "O numero digitado foi 4\n"
          ]
        }
      ],
      "source": [
        "numero = input('Escreva um número inteiro: ')\n",
        "numero = int(numero)\n",
        "if (numero / 1) == numero :\n",
        "  print('O numero digitado foi', numero)"
      ]
    },
    {
      "cell_type": "markdown",
      "metadata": {
        "id": "h1dzKsKY_EFZ"
      },
      "source": [
        "9. Faça um programa que leia e imprima dois números inteiros na tela."
      ]
    },
    {
      "cell_type": "code",
      "execution_count": null,
      "metadata": {
        "id": "SS1BrwWD_EFZ",
        "colab": {
          "base_uri": "https://localhost:8080/"
        },
        "outputId": "53c55516-12f8-4687-f0eb-0d6026fb2a5d"
      },
      "outputs": [
        {
          "output_type": "stream",
          "name": "stdout",
          "text": [
            "escreva um numero inteiro:12\n",
            "escreva outro numero inteiro:15\n",
            "primeiro numero:  12 Segundo numero:  15\n"
          ]
        }
      ],
      "source": [
        "numero = int(input('escreva um numero inteiro:'))\n",
        "numero2 = int(input('escreva outro numero inteiro:'))\n",
        "print('primeiro numero: ', numero, 'Segundo numero: ', numero2)"
      ]
    },
    {
      "cell_type": "markdown",
      "metadata": {
        "id": "YWwnEWFC_EFa"
      },
      "source": [
        "10. Faça um programa que leia um número inteiro e imprima seu número sucessor e antecessor."
      ]
    },
    {
      "cell_type": "code",
      "execution_count": null,
      "metadata": {
        "id": "VXicRICe_EFa",
        "colab": {
          "base_uri": "https://localhost:8080/"
        },
        "outputId": "4a480bbf-6bf4-428d-bf5c-9098056b206a"
      },
      "outputs": [
        {
          "output_type": "stream",
          "name": "stdout",
          "text": [
            "Digite um numero inteiro: 12\n",
            "13 11\n"
          ]
        }
      ],
      "source": [
        "numero = int(input('Digite um numero inteiro: '))\n",
        "sucessor = numero + 1\n",
        "antecessor = numero - 1\n",
        "print(sucessor, antecessor)"
      ]
    },
    {
      "cell_type": "markdown",
      "metadata": {
        "id": "28piGlEu_EFa"
      },
      "source": [
        "11. Faça um programa que leia o nome, endereço e telefone de um usuário e imprima na tela."
      ]
    },
    {
      "cell_type": "code",
      "execution_count": null,
      "metadata": {
        "id": "l7jsilYu_EFb",
        "colab": {
          "base_uri": "https://localhost:8080/"
        },
        "outputId": "71a778a3-96e9-4ea2-c895-79f3af79ef3b"
      },
      "outputs": [
        {
          "output_type": "stream",
          "name": "stdout",
          "text": [
            "Digite seu nome: joa9o\n",
            "Digite seu endereço: cura d'ars\n",
            "Digite seu telefone: 33132625\n",
            "seu nome é:  joa9o\n",
            "seu endereço é:  cura d'ars\n",
            "seu telefone é:  33132625.0\n"
          ]
        }
      ],
      "source": [
        "nome = input('Digite seu nome: ')\n",
        "endereco = input('Digite seu endereço: ')\n",
        "telefone = float(input('Digite seu telefone: '))\n",
        "print('seu nome é: ', nome)\n",
        "print('seu endereço é: ', endereco)\n",
        "print('seu telefone é: ', telefone)"
      ]
    },
    {
      "cell_type": "markdown",
      "metadata": {
        "id": "GewQ0Ytd_EFb"
      },
      "source": [
        "12. Faça um programa que leia e multiplique dois números inteiros."
      ]
    },
    {
      "cell_type": "code",
      "execution_count": null,
      "metadata": {
        "id": "kXYpn97O_EFb",
        "colab": {
          "base_uri": "https://localhost:8080/"
        },
        "outputId": "5f30bd37-76d5-479b-f72e-4a3519c63ba5"
      },
      "outputs": [
        {
          "output_type": "stream",
          "name": "stdout",
          "text": [
            "Digite um número10\n",
            "Digite um segundo numero10\n",
            "A multiplicação entre os dois números é:  100\n"
          ]
        }
      ],
      "source": [
        "numero1 = int(input('Digite um número'))\n",
        "numero2 = int(input('Digite um segundo numero'))1\n",
        "mult = numero1 * numero2\n",
        "print('A multiplicação entre os dois números é: ', mult)"
      ]
    },
    {
      "cell_type": "markdown",
      "metadata": {
        "id": "gPAeIOeo_EFb"
      },
      "source": [
        "13. Faça um programa que leia um número real e imprima a terça parte deste número."
      ]
    },
    {
      "cell_type": "code",
      "execution_count": null,
      "metadata": {
        "id": "LY9LxgK5_EFc",
        "colab": {
          "base_uri": "https://localhost:8080/"
        },
        "outputId": "aaa69b41-7c35-471e-da61-e1a497de57a7"
      },
      "outputs": [
        {
          "output_type": "stream",
          "name": "stdout",
          "text": [
            "Digite um número inteiro: 33\n",
            "A terça parte de  33  é  11.0\n"
          ]
        }
      ],
      "source": [
        "numero = int(input('Digite um número inteiro: '))\n",
        "terco = numero / 3\n",
        "print('A terça parte de ',numero,' é ',terco)"
      ]
    },
    {
      "cell_type": "markdown",
      "metadata": {
        "id": "Sg-64cO7_EFc"
      },
      "source": [
        "14. Faça um programa que leia dois números inteiros e imprima o dividendo, divisor, quociente e resto da divisão"
      ]
    },
    {
      "cell_type": "code",
      "execution_count": null,
      "metadata": {
        "id": "UkOMWT2Z_EFc"
      },
      "outputs": [],
      "source": [
        "dividendo = int(input(\"Dividendo: \"))\n",
        "divisor = int(input(\"Divisor: \"))\n",
        "quociente = 0\n",
        "x = dividendo\n",
        "while x >= divisor:\n",
        "    x = x - divisor\n",
        "    quociente = quociente + 1\n",
        "resto = x\n",
        "print(f\"{dividendo} / {divisor} = {quociente} (quociente) {resto} (resto)\")"
      ]
    },
    {
      "cell_type": "markdown",
      "metadata": {
        "id": "C9W_Nfwu_EFc"
      },
      "source": [
        "15. Escreva um programa que solicite do usuário dois números, e imprima o resultado da soma, subtração, multiplicação e divisão."
      ]
    },
    {
      "cell_type": "code",
      "execution_count": 73,
      "metadata": {
        "id": "W739i82b_EFc",
        "colab": {
          "base_uri": "https://localhost:8080/"
        },
        "outputId": "429c6846-3b05-4440-ae81-611f5695a159"
      },
      "outputs": [
        {
          "output_type": "stream",
          "name": "stdout",
          "text": [
            "Primeiro número:10\n",
            "Segundo número:20\n",
            "Digite a operação a realizar (+,-,* ou /):+\n",
            "Resultado:  30.0\n"
          ]
        }
      ],
      "source": [
        "a = float(input(\"Primeiro número:\"))\n",
        "b = float(input(\"Segundo número:\"))\n",
        "operação = input(\"Digite a operação a realizar (+,-,* ou /):\")\n",
        "if operação == \"+\":\n",
        "    resultado = a + b\n",
        "elif operação == \"-\":\n",
        "    resultado = a - b\n",
        "elif operação == \"*\":\n",
        "    resultado = a * b\n",
        "elif operação == \"/\":\n",
        "    resultado = a / b\n",
        "else:\n",
        "    print(\"Operação inválida!\")\n",
        "    resultado = 0\n",
        "print(\"Resultado: \", resultado)"
      ]
    },
    {
      "cell_type": "markdown",
      "metadata": {
        "id": "fvpeFikL_EFd"
      },
      "source": [
        "16. Faça um programa que leia quatro números inteiros, calcule e mostre a soma desses números."
      ]
    },
    {
      "cell_type": "code",
      "execution_count": null,
      "metadata": {
        "id": "tLlNWnnJ_EFd",
        "colab": {
          "base_uri": "https://localhost:8080/"
        },
        "outputId": "50120d77-0b66-4c94-e987-50bc12814e0c"
      },
      "outputs": [
        {
          "output_type": "stream",
          "name": "stdout",
          "text": [
            "Digite um número2\n",
            "Digite um segundo numero2\n",
            "Digite um terceiro número2\n",
            "Digite um quarto numero2\n",
            "A soma dos números inteiros é:  8\n"
          ]
        }
      ],
      "source": [
        "numero1 = int(input('Digite um número'))\n",
        "numero2 = int(input('Digite um segundo numero'))\n",
        "numero3 = int(input('Digite um terceiro número'))\n",
        "numero4 = int(input('Digite um quarto numero'))\n",
        "soma = numero1 + numero2 + numero3 + numero4\n",
        "print('A soma dos números inteiros é: ',soma)"
      ]
    },
    {
      "cell_type": "markdown",
      "metadata": {
        "id": "akWTIw5i_EFd"
      },
      "source": [
        "17. Faça um programa que receba três notas, calcule e mostre a média aritmética."
      ]
    },
    {
      "cell_type": "code",
      "execution_count": null,
      "metadata": {
        "id": "yNcbtDN1_EFd",
        "colab": {
          "base_uri": "https://localhost:8080/"
        },
        "outputId": "1b9d6b72-918a-4fc4-c8f7-c35f45c362f6"
      },
      "outputs": [
        {
          "output_type": "stream",
          "name": "stdout",
          "text": [
            "Digite a primeira nota15.2\n",
            "Digite a segunda nota16.3\n",
            "Digite a terceira nota5.4\n",
            "A média das três notas é: 12.299999999999999\n"
          ]
        }
      ],
      "source": [
        "nota1 = float(input('Digite a primeira nota'))\n",
        "nota2 = float(input('Digite a segunda nota'))\n",
        "nota3 = float(input('Digite a terceira nota'))\n",
        "soma = nota1 + nota2 + nota3\n",
        "numbernotas = 3\n",
        "media = soma / numbernotas\n",
        "print('A média das três notas é:',media)"
      ]
    },
    {
      "cell_type": "markdown",
      "metadata": {
        "id": "uczy8oIV_EFd"
      },
      "source": [
        "18. Faça um programa que receba três notas e seus respectivos pesos, calcule e mostre a média ponderada."
      ]
    },
    {
      "cell_type": "code",
      "execution_count": null,
      "metadata": {
        "id": "0bpsKvxQ_EFe",
        "colab": {
          "base_uri": "https://localhost:8080/"
        },
        "outputId": "46828fb9-7599-4e95-fae0-878a67b0b82c"
      },
      "outputs": [
        {
          "output_type": "stream",
          "name": "stdout",
          "text": [
            "Digite a primeira nota10\n",
            "Digite a segunda nota20\n",
            "Digite a terceira nota30\n",
            "A média das três notas é: 23.333333333333332\n"
          ]
        }
      ],
      "source": [
        "nota1 = float(input('Digite a primeira nota'))\n",
        "nota2 = float(input('Digite a segunda nota'))\n",
        "nota3 = float(input('Digite a terceira nota'))\n",
        "soma = nota1 * 1 + nota2 * 2 + nota3 * 3\n",
        "numbernotas = 1 + 2 + 3\n",
        "media = soma / numbernotas\n",
        "print('A média das três notas é:',media)"
      ]
    },
    {
      "cell_type": "markdown",
      "metadata": {
        "id": "4nSqch61_EFe"
      },
      "source": [
        "19. Faça um programa que receba o salário de um funcionário, calcule e mostre o novo salário, sabendo-se que este sofreu um aumento de 25%."
      ]
    },
    {
      "cell_type": "code",
      "execution_count": null,
      "metadata": {
        "id": "euWQIg2k_EFe",
        "colab": {
          "base_uri": "https://localhost:8080/"
        },
        "outputId": "bd883c2a-1f50-4055-f70d-fb25f1f6c3c3"
      },
      "outputs": [
        {
          "output_type": "stream",
          "name": "stdout",
          "text": [
            "Digite o seu salario1000\n",
            "O seu novo salário é de: 1250.0\n"
          ]
        }
      ],
      "source": [
        "salario = float(input('Digite o seu salario'))\n",
        "salariofinal = salario * 1.25\n",
        "print('O seu novo salário é de:',salariofinal)"
      ]
    },
    {
      "cell_type": "markdown",
      "metadata": {
        "id": "tEHJACta_EFf"
      },
      "source": [
        "20. Faça um programa que receba o salário de um funcionário e o percentual de aumento, calcule e mostre o valor do aumento e o novo salário. "
      ]
    },
    {
      "cell_type": "code",
      "execution_count": null,
      "metadata": {
        "id": "JGqQcrWN_EFf",
        "colab": {
          "base_uri": "https://localhost:8080/"
        },
        "outputId": "312ebacf-8af3-4236-855b-9a84337d5101"
      },
      "outputs": [
        {
          "output_type": "stream",
          "name": "stdout",
          "text": [
            "Digite o seu salario1000\n",
            "Digite a porcentagem de aumento25\n",
            "O seu novo salário é de: 1250.0\n"
          ]
        }
      ],
      "source": [
        "salario = float(input('Digite o seu salario'))\n",
        "porcentagem = float(input('Digite a porcentagem de aumento'))\n",
        "calculoporcentagem = salario / 100.0 \n",
        "salariofinal = salario + (calculoporcentagem * porcentagem)\n",
        "print('O seu novo salário é de:',salariofinal)"
      ]
    },
    {
      "cell_type": "markdown",
      "metadata": {
        "id": "wgBkqWx7_EFf"
      },
      "source": [
        "21.  Faça um programa que calcule e mostre a área de um triângulo. Sabe-se que: \n",
        "> Área = (base * altura) / 2."
      ]
    },
    {
      "cell_type": "code",
      "execution_count": null,
      "metadata": {
        "id": "xV6woG3t_EFf",
        "colab": {
          "base_uri": "https://localhost:8080/"
        },
        "outputId": "4f6d273f-0c84-4a2a-853e-b2a3fa98a6fc"
      },
      "outputs": [
        {
          "output_type": "stream",
          "name": "stdout",
          "text": [
            "Digite a base do triangulo10\n",
            "Digite a altura do triangulo12\n",
            "A área do triangulo é: 60.0\n"
          ]
        }
      ],
      "source": [
        "base = float(input('Digite a base do triangulo'))\n",
        "altura = float(input('Digite a altura do triangulo'))\n",
        "area = base * altura / 2\n",
        "print('A área do triangulo é:',area)"
      ]
    },
    {
      "cell_type": "markdown",
      "metadata": {
        "id": "mgvoS76y_EFf"
      },
      "source": [
        "22. Escreva um programa que receba como entrada o raio de um círculo e imprima o diâmetro, a circunferência e a área. Para isso, utilize as fórmulas: diâmetro = 2r; circunferência = 2πr, área = πr²."
      ]
    },
    {
      "cell_type": "code",
      "execution_count": null,
      "metadata": {
        "id": "_ZaukSqy_EFg",
        "colab": {
          "base_uri": "https://localhost:8080/"
        },
        "outputId": "1bdc9fd1-32d7-478f-c9ee-76a7b03ae37e"
      },
      "outputs": [
        {
          "output_type": "stream",
          "name": "stdout",
          "text": [
            "Digite o raio de um circulo:10\n",
            "O diametro é  20.0\n",
            "A area é  314.0\n",
            "A circunferencia é 62.800000000000004\n"
          ]
        }
      ],
      "source": [
        "raio = float(input('Digite o raio de um circulo:'))\n",
        "circunferencia = 2 * 3.14 * raio\n",
        "area = 3.14 * (raio * raio)\n",
        "diametro = 2 * raio\n",
        "print('O diametro é ', diametro)\n",
        "print('A area é ', area)\n",
        "print('A circunferencia é', circunferencia)"
      ]
    },
    {
      "cell_type": "markdown",
      "metadata": {
        "id": "8yJKRUuc_EFg"
      },
      "source": [
        "23. Faça um programa que receba um número positivo e maior que zero, calcule e mostre:\n",
        "    1. o número digitado ao quadrado;\n",
        "    2. o número digitado ao cubo;\n",
        "    3. a raiz quadrada do número digitado."
      ]
    },
    {
      "cell_type": "code",
      "execution_count": null,
      "metadata": {
        "id": "_J_9GBgO_EFg",
        "colab": {
          "base_uri": "https://localhost:8080/"
        },
        "outputId": "de35f8b3-7d8b-408b-c3f2-9e487bf6f431"
      },
      "outputs": [
        {
          "output_type": "stream",
          "name": "stdout",
          "text": [
            "Informe um número positivo maior que 0(zero)10\n",
            "10.0 ao quadrado = 100.0\n",
            "10.0 ao cubo = 1000.0\n",
            "10.0 raiz quadrada= 100.0\n"
          ]
        }
      ],
      "source": [
        "numero = float(input(\"Informe um número positivo maior que 0(zero)\"))\n",
        "if numero > 0:\n",
        "  print(numero,\"ao quadrado =\",numero*numero)\n",
        "  print(numero,\"ao cubo =\",numero*numero*numero)\n",
        "  print(numero,\"raiz quadrada =\",numero*numero)\n",
        "else:\n",
        "    print('Digite um número positivo maior que 0')"
      ]
    },
    {
      "cell_type": "markdown",
      "metadata": {
        "id": "QEhVaXvc_EFg"
      },
      "source": [
        "24. Faça um programa que receba dois números maiores que zero, calcule e mostre um elevado ao outro."
      ]
    },
    {
      "cell_type": "markdown",
      "source": [
        ""
      ],
      "metadata": {
        "id": "3sUg2wSCDJCc"
      }
    },
    {
      "cell_type": "code",
      "execution_count": null,
      "metadata": {
        "id": "o9w6grqV_EFh",
        "colab": {
          "base_uri": "https://localhost:8080/"
        },
        "outputId": "ab7ef947-d9be-483e-de06-9461801b14aa"
      },
      "outputs": [
        {
          "output_type": "stream",
          "name": "stdout",
          "text": [
            "Digite o primeiro número:10\n",
            "Digite o segundo número:20\n",
            "O número  10.0 elevado ao  20.0 é: 100.0\n"
          ]
        }
      ],
      "source": [
        "numero1 = float(input('Digite o primeiro número:'))\n",
        "numero2 = float(input('Digite o segundo número:'))\n",
        "base = numero1\n",
        "potencia = numero2\n",
        "base *= numero1\n",
        "potencia -= 1\n",
        "if numero1 > 0 and numero2 > 0:\n",
        "  print('O número ',numero1, 'elevado ao ', numero2, 'é:',base )\n",
        "else:\n",
        "  print('Digite um número maior que 0') \n"
      ]
    },
    {
      "cell_type": "markdown",
      "metadata": {
        "id": "alSV2wWX_EFh"
      },
      "source": [
        "25. Sabe-se que: pé = 12 polegadas; 1 jarda = 3 pés e 1 milha = 1,760 jarda. Faça um programa que receba uma medida em pés, faça as conversões a seguir e mostre os resultados.\n",
        "    1. polegadas;\n",
        "    2. jardas;\n",
        "    3. milhas."
      ]
    },
    {
      "cell_type": "code",
      "execution_count": null,
      "metadata": {
        "id": "LCQhIkOA_EFh",
        "colab": {
          "base_uri": "https://localhost:8080/"
        },
        "outputId": "8de4a2e2-c001-478f-b52f-22bc7a3a93b5"
      },
      "outputs": [
        {
          "output_type": "stream",
          "name": "stdout",
          "text": [
            "Digite a medida em pés:19\n",
            "Polegadas: 228.0\n",
            "Jardas: 6.333333333333333\n",
            "milhas: 0.0035984848484848482\n"
          ]
        }
      ],
      "source": [
        "pes = float(input('Digite a medida em pés:'))\n",
        "polegadas = pes * 12\n",
        "jardas = pes / 3\n",
        "milhas = jardas / 1760\n",
        "print('Polegadas:', polegadas) \n",
        "print('Jardas:', jardas) \n",
        "print('milhas:', milhas) "
      ]
    },
    {
      "cell_type": "markdown",
      "metadata": {
        "id": "1V3nFF9S_EFh"
      },
      "source": [
        "26. Escreva um programa que receba como entrada um número de 5 dígitos, separe o número em dígitos individuais e os imprima separados por 3 espaços cada um. Por exemplo, se o usuário digitar 42339, o programa deverá imprimir: 4    2    3    3.   Dica: utilize as operações de divisão e módulo para extrair cada dígito do número."
      ]
    },
    {
      "cell_type": "code",
      "execution_count": 18,
      "metadata": {
        "id": "pGNsU8HA_EFi",
        "colab": {
          "base_uri": "https://localhost:8080/"
        },
        "outputId": "9f4f3519-c8c9-49ff-8683-9c4750e2f28f"
      },
      "outputs": [
        {
          "output_type": "stream",
          "name": "stdout",
          "text": [
            "Digite um número de 5 digitos:42339\n",
            "4 2 3 3\n"
          ]
        }
      ],
      "source": [
        "numero = int(input('Digite um número de 5 digitos:'))\n",
        "n = str(numero)\n",
        "print(format(n[0]), format(n[1]), format(n[2]), format(n[3]))\n"
      ]
    },
    {
      "cell_type": "markdown",
      "metadata": {
        "id": "9qzXUyGX_EFi"
      },
      "source": [
        "27.  A nota final de um estudante é calculada a partir de três notas atribuídas, respectivamente, a um trabalho\n",
        "de laboratório, a uma avaliação semestral e a um exame final. A média das três notas mencionadas\n",
        "obedece aos pesos a seguir:\n",
        "\n",
        "| Nota                    | Peso |\n",
        "|-------------------------|------|\n",
        "| Trabalho de Laboratório | 2    |\n",
        "| Avaliação Semestral     | 3    |\n",
        "| Exame Final             | 5    |\n",
        "\n",
        "\n",
        "Faça um programa que receba as três notas, calcule e mostre a média ponderada e o conceito que segue\n",
        "a tabela:\n",
        "\n",
        "| Média Ponderada        | Conceito |\n",
        "|------------------------|----------|\n",
        "| 8,00 <= Média <= 10,00 | A        |\n",
        "| 7,00 <= Média < 8,00   | B        |\n",
        "| 6,00 <= Média < 7,00   | C        |\n",
        "| 5,00 <= Média < 6,00   | D        |\n",
        "| 0,00 <= Média < 5,00   | E        |"
      ]
    },
    {
      "cell_type": "code",
      "execution_count": 34,
      "metadata": {
        "id": "qScckP16_EFi",
        "colab": {
          "base_uri": "https://localhost:8080/"
        },
        "outputId": "588f64dd-0084-4f9d-d27e-32efaeaea591"
      },
      "outputs": [
        {
          "output_type": "stream",
          "name": "stdout",
          "text": [
            "Digite a nota de trabalho:-2\n",
            "Digite a nota da avaliação semestral:-3\n",
            "Digite a nota do exame final:-1\n",
            "-1.8\n",
            "Viiish\n"
          ]
        }
      ],
      "source": [
        "trabalho = float(input('Digite a nota de trabalho:'))\n",
        "aval = float(input('Digite a nota da avaliação semestral:'))\n",
        "exameFinal = float(input('Digite a nota do exame final:'))\n",
        "media = (trabalho*2 + aval*3 + exameFinal*5) / 10\n",
        "if media >= 8:\n",
        "  print('Conceito A')\n",
        "elif media >= 7 and media < 8:\n",
        "  print('Conceito B.')\n",
        "elif media >= 6 and media < 7:\n",
        "  print('Conceito C.')\n",
        "elif media >= 5 and media < 6:\n",
        "  print('Conceito D.')\n",
        "elif media >= 0 and media < 5:\n",
        "  print('Conceito E.')\n",
        "else:\n",
        "  print(\"Viiish\")\n",
        "\n"
      ]
    },
    {
      "cell_type": "markdown",
      "metadata": {
        "id": "-x8JTKBk_EFi"
      },
      "source": [
        ":28. Faça um programa que receba três notas de um aluno, calcule e mostre a média aritmética e a mensagem constante na tabela a seguir. \n",
        "\n",
        "| Média                  | Situação       |\n",
        "|------------------------|----------------|\n",
        "| 7,00 <= Média <= 10,00 | Aprovado       |\n",
        "| 3,00 <= Média < 7,00   | Exame Especial |\n",
        "| 0,00 <= Média < 3,00   | Reprovado      |"
      ]
    },
    {
      "cell_type": "code",
      "execution_count": 45,
      "metadata": {
        "id": "y0psUwOy_EFj",
        "colab": {
          "base_uri": "https://localhost:8080/"
        },
        "outputId": "fa81f4ab-7e6c-404b-f1af-6b5d63ae32a9"
      },
      "outputs": [
        {
          "output_type": "stream",
          "name": "stdout",
          "text": [
            "Digite a primeira nota:6\n",
            "Digite a segunda nota:7\n",
            "Digite a terceira nota:5\n",
            "6.0\n",
            "Exame especial\n"
          ]
        }
      ],
      "source": [
        "n1 = float(input('Digite a primeira nota:'))\n",
        "n2 = float(input('Digite a segunda nota:'))\n",
        "n3 = float(input('Digite a terceira nota:'))\n",
        "media = (n1 + n2 + n3) / 3\n",
        "print(media)\n",
        "if media >= 7 and media <= 10:\n",
        "  print('Aprovado')\n",
        "elif media >= 3 and media < 7:\n",
        "  print('Exame especial')\n",
        "else:\n",
        "  print('Reprovado')"
      ]
    },
    {
      "cell_type": "markdown",
      "metadata": {
        "id": "-UlWJETp_EFj"
      },
      "source": [
        "29. Faça um programa para resolver equações do 2º grau.\n",
        "\n",
        "$$\n",
        "a^{2} + bx + c = 0\n",
        "$$\n",
        "\n",
        "\n",
        "Onde x é uma variável, sendo a, b e c constantes, com a ≠ 0 \n",
        "\n",
        "\n",
        "$$\n",
        "\\Delta = b^{2} - 4ac\n",
        "$$\n",
        "\n",
        "$$\n",
        "\\Delta < 0 \\rightarrow não \\: existe  \\: raiz  \\: real\n",
        "$$\n",
        "\n",
        "$$\n",
        "\\Delta = 0 \\rightarrow  existe  \\: raiz  \\: real\n",
        "$$\n",
        "\n",
        "$$\n",
        "x = \\frac{-b}{2a}\n",
        "$$\n",
        "\n",
        "\n",
        "\n",
        "$$\n",
        "\\Delta > 0 \\rightarrow existem \\: duas  \\: raizes  \\: reais\n",
        "$$\n",
        "\n",
        "\n",
        "$$\n",
        "x_1 = \\frac{-b \\: + \\: \\sqrt{\\Delta } }{2a}\n",
        "$$\n",
        "\n",
        "$$\n",
        "x_2 = \\frac{-b \\: - \\: \\sqrt{\\Delta } }{2a}\n",
        "$$"
      ]
    },
    {
      "cell_type": "code",
      "execution_count": 61,
      "metadata": {
        "id": "LhU9LHrj_EFj",
        "colab": {
          "base_uri": "https://localhost:8080/"
        },
        "outputId": "8be50f83-2609-4c0d-d9ed-4cedd69c6904"
      },
      "outputs": [
        {
          "output_type": "stream",
          "name": "stdout",
          "text": [
            "Entre com o valor de a: 10\n",
            "Entre com o valor de b: 10\n",
            "Entre com o valor de c: 10\n",
            "\n",
            "Valor de x1: (-0.4999999999999999+0.8660254037844387j)\n",
            "Valor de x2: (-0.5000000000000001-0.8660254037844387j)\n"
          ]
        }
      ],
      "source": [
        "def raizes(a, b, c):\n",
        "  D = (b**2 - 4*a*c)\n",
        "  x1 = (-b + D**(1/2)) / (2*a)\n",
        "  x2 = (-b - D**(1/2)) / (2*a)\n",
        "\n",
        "  print('\\nValor de x1: {0}'.format(x1))\n",
        "  print('Valor de x2: {0}'.format(x2))\n",
        "  \n",
        "a = float(input('Entre com o valor de a: '))\n",
        "b = float(input('Entre com o valor de b: '))\n",
        "c = float(input('Entre com o valor de c: '))\n",
        "raizes(a,b,c)"
      ]
    },
    {
      "cell_type": "markdown",
      "metadata": {
        "id": "IKCP3Ug1_EFj"
      },
      "source": [
        "30. Faça um programa que receba vários números, calcule e mostre:\n",
        "\n",
        "    - A soma dos números digitados;\n",
        "    - A quantidade de números digitados;\n",
        "    - A média dos números digitados;\n",
        "    - O maior número digitado;\n",
        "    - O menor número digitado;\n",
        "    - A média dos números pares;\n",
        "    - A porcentagem dos números ímpares entre todos os números digitados.\n",
        "\n",
        "Finalize a entrada de dados com a digitação do número 0."
      ]
    },
    {
      "cell_type": "code",
      "execution_count": 72,
      "metadata": {
        "id": "BEy8sXm7_EFj",
        "colab": {
          "base_uri": "https://localhost:8080/"
        },
        "outputId": "b3ba3e34-e894-4f99-9b6f-cfa1c5250fe2"
      },
      "outputs": [
        {
          "output_type": "stream",
          "name": "stdout",
          "text": [
            "Digite um valor1234\n",
            "Para encerrar a digitação digite \"777777\"\n",
            "Digite um valor123\n",
            "Digite um valor777777\n",
            "A soma dos números: 1357\n",
            "Quantidade de números digitados: 2\n",
            "Média dos números: 678.5\n",
            "O maior número digitado foi: 1234\n",
            "O menor número digitado foi: 123\n",
            "Média dos números pares: 1234.0\n",
            "Porcentagem de números ímpares: 50.0%\n"
          ]
        }
      ],
      "source": [
        "qtdNum = 0\n",
        "somaNum = 0\n",
        "maior = 0\n",
        "menor = 0\n",
        "somaPar = 0\n",
        "qtdPar = 0\n",
        "qtdImpar = 0\n",
        "\n",
        "num = int(input('Digite um valor'))\n",
        "print('Para encerrar a digitação digite \"777777\"')\n",
        "\n",
        "maior = num\n",
        "menor = num\n",
        "\n",
        "while(num != 777777):\n",
        "   qtdNum += 1\n",
        "   somaNum += num\n",
        "\n",
        "   if num > maior:\n",
        "       maior = num\n",
        "\n",
        "   elif num < menor:\n",
        "       menor = num\n",
        "\n",
        "   if num % 2 == 0:\n",
        "       qtdPar += 1\n",
        "       somaPar += num\n",
        "\n",
        "   else:\n",
        "       qtdImpar += 1\n",
        "       \n",
        "   num = int(input('Digite um valor'))\n",
        "\n",
        "\n",
        "print('A soma dos números: {}'.format(somaNum))\n",
        "print('Quantidade de números digitados: {}'.format(qtdNum))\n",
        "print('Média dos números: {}'.format(somaNum / qtdNum))\n",
        "print('O maior número digitado foi: {}'.format(maior))\n",
        "print('O menor número digitado foi: {}'.format(menor))\n",
        "print('Média dos números pares: {}'.format(somaPar / qtdPar))\n",
        "print('Porcentagem de números ímpares: {}%'.format(qtdImpar / qtdNum * 100))"
      ]
    },
    {
      "cell_type": "markdown",
      "metadata": {
        "id": "QYql75Bv_EFk"
      },
      "source": [
        "31. Foi realizada uma pesquisa sobre algumas características físicas dos habitantes de uma região. Foram coletados os seguintes dados de cada habitante: sexo, cor dos olhos (A — azuis; ou C — castanhos), cor dos cabelos (L — louros; P — pretos; ou C — castanhos) e idade. Implemente os seguintes métodos:\n",
        "\n",
        "    1. `leia_dados()`: leia esses dados, armazene e retorne os dados em uma lista;\n",
        "    2. `media_idades(dados)`: calcula e retorne a média de idade das pessoas com olhos castanhos e cabelos pretos;\n",
        "    3. `maior_idade(dados)`: determina e retorne a maior idade entre os habitantes;\n",
        "    4. `frequencia_individuos(dados)`: calcula e retorna a quantidade de indivíduos do sexo feminino com idade entre 18 e 35 anos (inclusive) e que tenham olhos azuis e cabelos louros."
      ]
    },
    {
      "cell_type": "markdown",
      "source": [
        ""
      ],
      "metadata": {
        "id": "7O87oA5NDNGl"
      }
    },
    {
      "cell_type": "code",
      "execution_count": null,
      "metadata": {
        "id": "M6HR0zEd_EFk"
      },
      "outputs": [],
      "source": [
        ""
      ]
    },
    {
      "cell_type": "markdown",
      "metadata": {
        "id": "Kkf4kx2Y_EFk"
      },
      "source": [
        "32. Faça o método `analisa_numeros(numeros)` que receba uma lista de números \n",
        "\n",
        "---\n",
        "\n",
        "como parâmetro, calcule e mostre:\n",
        "\n",
        "---\n",
        "\n",
        "\n",
        "\n",
        "    1. A Soma dos números;\n",
        "    2. A quantidade de números;\n",
        "    3. A média dos números;\n",
        "    4. O maior número;\n",
        "    5. O menor número;\n",
        "    6. A média dos números pares;\n",
        "    7. A porcentagem dos números ímpares entre todos os números da lista."
      ]
    },
    {
      "cell_type": "code",
      "execution_count": 99,
      "metadata": {
        "id": "y4BOQhXd_EFk",
        "colab": {
          "base_uri": "https://localhost:8080/"
        },
        "outputId": "659e6e45-4d7c-430e-989e-6b01821cb614"
      },
      "outputs": [
        {
          "output_type": "stream",
          "name": "stdout",
          "text": [
            "Digite um valor23\n",
            "Para encerrar a digitação digite \"777777\"\n",
            "Digite um valor23\n",
            "Digite um valor4\n",
            "Digite um valor777777\n",
            "A soma dos números: 1357\n",
            "Quantidade de números digitados: 2\n",
            "Média dos números: 678.5\n",
            "O maior número digitado foi: 23\n",
            "O menor número digitado foi: 4\n",
            "Média dos números pares: 4.0\n",
            "Porcentagem de números ímpares: 100.0%\n"
          ]
        }
      ],
      "source": [
        "def analisa_numeros(num):\n",
        "  soma = 0\n",
        "  quantidade =0 \n",
        "  maior = 0\n",
        "  menor = 0\n",
        "  qtdPar = 0\n",
        "  somaPar = 0\n",
        "  qtdImpar = 0\n",
        "\n",
        "  num = int(input('Digite um valor'))\n",
        "  print('Para encerrar a digitação digite \"777777\"')\n",
        "  maior = num\n",
        "  menor = num\n",
        "\n",
        "  while(num != 777777):\n",
        "    if num > maior:\n",
        "       maior = num\n",
        "    elif num < menor:\n",
        "       menor = num\n",
        "\n",
        "    if num % 2 == 0:\n",
        "       qtdPar += 1\n",
        "       somaPar += num\n",
        "    else:\n",
        "       qtdImpar += 1\n",
        "    num = int(input('Digite um valor'))\n",
        "  print('A soma dos números: {}'.format(somaNum))\n",
        "  print('Quantidade de números digitados: {}'.format(qtdNum))\n",
        "  print('Média dos números: {}'.format(somaNum / qtdNum))\n",
        "  print('O maior número digitado foi: {}'.format(maior))\n",
        "  print('O menor número digitado foi: {}'.format(menor))\n",
        "  print('Média dos números pares: {}'.format(somaPar / qtdPar))\n",
        "  print('Porcentagem de números ímpares: {}%'.format(qtdImpar / qtdNum * 100))\n",
        "\n",
        "analisa_numeros(num)"
      ]
    },
    {
      "cell_type": "markdown",
      "metadata": {
        "id": "UmgbiTkB_EFk"
      },
      "source": [
        "33. Uma empresa quer transmitir dados pelo telefone, mas está preocupada com a interceptação telefônica. Todos os seus dados são transmitidos  como inteiros de quatro dígitos. Ela pediu para que você escreva um programa que criptografe seus dados, para que eles possam ser transmitidos com mais segurança. Implemente a função `criptogra(numero)` que receba como parâmetro um número inteiro de quatro dígitos e criptografe-o da seguinte forma: \n",
        "\n",
        "    * Substitua cada um dos dígitos do número usando a seguinte fórmula: `(digito +  7) módulo 10`; \n",
        "    * Após a substituição, troque o primeiro dígito pelo terceiro e troque o segundo dígito pelo quarto;\n",
        "    * Retorne o número inteiro criptografado."
      ]
    },
    {
      "cell_type": "code",
      "execution_count": null,
      "metadata": {
        "id": "2lXmFEa__EFl"
      },
      "outputs": [],
      "source": [
        ""
      ]
    }
  ],
  "metadata": {
    "kernelspec": {
      "display_name": "Python 3",
      "language": "python",
      "name": "python3"
    },
    "language_info": {
      "codemirror_mode": {
        "name": "ipython",
        "version": 3
      },
      "file_extension": ".py",
      "mimetype": "text/x-python",
      "name": "python",
      "nbconvert_exporter": "python",
      "pygments_lexer": "ipython3",
      "version": "3.7.4"
    },
    "colab": {
      "name": "exercicios-python.ipynb",
      "provenance": [],
      "collapsed_sections": []
    }
  },
  "nbformat": 4,
  "nbformat_minor": 0
}