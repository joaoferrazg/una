{
  "nbformat": 4,
  "nbformat_minor": 0,
  "metadata": {
    "colab": {
      "name": "API2.ipynb",
      "provenance": [],
      "collapsed_sections": []
    },
    "kernelspec": {
      "name": "python3",
      "display_name": "Python 3"
    },
    "language_info": {
      "name": "python"
    }
  },
  "cells": [
    {
      "cell_type": "markdown",
      "source": [
        "1) Crie um programa em Python que consuma os dados de moedas (currencies) da API Financeira da HG Brasil <https://hgbrasil.com/status/finance>. Seu Programa deverá ler do usuário um valor financeiro qualquer fornecido sempre em reais (R$), e convertê-lo para Euro (EUR) e Dólares (USD); a partir dos dados fornecidos pela API. \n"
      ],
      "metadata": {
        "id": "FSTupATcyAjD"
      }
    },
    {
      "cell_type": "code",
      "source": [
        "import requests\n",
        "import json\n",
        "\n",
        "real = float(input(\"Primeiro número:\"))\n",
        "\n",
        "requisicao = requests.get('https://api.hgbrasil.com/finance')\n",
        "cotacao = requisicao.json()\n",
        "dollar = cotacao[\"results\"]['currencies']['USD']['buy']\n",
        "euro = cotacao[\"results\"]['currencies']['EUR']['buy']\n",
        "resultDollar = str(real * dollar)\n",
        "resultEuro = str(real * euro)\n",
        "print('O valor convertido em Dollar é ' +resultDollar)\n",
        "print('O valor convertido em Euro é ' +resultEuro)"
      ],
      "metadata": {
        "colab": {
          "base_uri": "https://localhost:8080/"
        },
        "id": "KlOxyexbyErj",
        "outputId": "5c9b19c7-56f1-4d52-e8bc-5a9b7ac387a0"
      },
      "execution_count": null,
      "outputs": [
        {
          "output_type": "stream",
          "name": "stdout",
          "text": [
            "Primeiro número:10.50\n",
            "O valor convertido em Dollar é 49.9569\n",
            "O valor convertido em Euro é 55.3854\n"
          ]
        }
      ]
    },
    {
      "cell_type": "markdown",
      "source": [
        "3)Crie um programa em Python que consuma os dados de previsão do tempo (weather) da API de Previsão do Tempo <https://hgbrasil.com/status/weather>. \n",
        "O sistema deverá fornecer a previsão do tempo, somente para estados e cidades brasileiras;\n",
        "O sistema permitirá que o usuário escolha um estado ou cidade para consulta;\n",
        "O sistema apresentará para o usuário as seguintes informações fornecidas pela API Weather:\n",
        "Temperatura atual em graus celsius (ºc)\n",
        "Data e Hora da consulta\n",
        "Descrição do tempo atual\n",
        "Se está de dia ou de noite\n",
        "Umidade\n",
        "Velocidade do vento\n",
        "Nascer e pôr do sol\n",
        "Condição de tempo atual.\n",
        "Médias das temperaturas máxima e mínima semanal, baseado nos dados de previsão climática (forecast)\n",
        "O sistema deverá manter em um sistema de gerenciamento de banco de dados do SQLite,  o histórico de consultas feito pelo usuário contendo os seguintes dados: data e hora da consulta, Temperatura, Umidade, descrição da condição do tempo, velocidade do vento em Km/h.\n",
        "O sistema deverá manter um banco de dados de códigos WOEID para estados e cidades brasileiras. Para tal, faça o download do conjunto de \n"
      ],
      "metadata": {
        "id": "FKYNSNESzJlZ"
      }
    },
    {
      "cell_type": "code",
      "source": [
        "import requests\n",
        "import json\n",
        "print('lista de cidades:')\n",
        "print('Digite o número correspondente da cidade')\n",
        "print ('1.Belo Horizonte\\n2.São Paulo\\n3.Rio de Janeiro')\n",
        "resposta = str(input())\n",
        "cidade = ''\n",
        "if resposta == '1':\n",
        " cidade = '455821'\n",
        "if resposta == '2':\n",
        " cidade = '455827'\n",
        "if resposta == '3':\n",
        " cidade = '455825'\n",
        "else:\n",
        " print('Digite o número da cidade desejada')\n",
        "\n",
        "requisicao = requests.get('https://api.hgbrasil.com/weather?woeid='+ cidade)\n",
        "body = requisicao.json()\n",
        "temperatura = body[\"results\"][\"temp\"]\n",
        "data = body[\"results\"][\"date\"]\n",
        "hora = body[\"results\"][\"time\"]\n",
        "datahora = data,hora\n",
        "descricao = body[\"results\"][\"description\"]\n",
        "diaOuNoite = body[\"results\"][\"currently\"]\n",
        "umidade = body[\"results\"][\"humidity\"]\n",
        "velocidadeVento = body[\"results\"][\"wind_speedy\"]\n",
        "nascerSol = body[\"results\"][\"sunrise\"],body[\"results\"][\"sunset\"]\n",
        "condicaoAtual = body[\"results\"][\"condition_slug\"]\n",
        "mediaTemp = body[\"results\"][\"condition_slug\"]\n",
        "\n",
        "print('temperatura:', temperatura,'graus','\\nData e hora:',datahora, '\\nDescrição do tempo:',descricao,'\\nAtualmente',diaOuNoite,'\\nUmidade:',umidade,'\\nVelocidade do vento:',velocidadeVento,'\\nNascer e por do sol:',nascerSol,'\\nCondição atual:',condicaoAtual)\n"
      ],
      "metadata": {
        "id": "5Ul-WyX9zVkH",
        "colab": {
          "base_uri": "https://localhost:8080/"
        },
        "outputId": "6d9ea35a-c7fa-4df5-974f-ae5facae9f5c"
      },
      "execution_count": null,
      "outputs": [
        {
          "output_type": "stream",
          "name": "stdout",
          "text": [
            "lista de cidades:\n",
            "Digite o número correspondente da cidade\n",
            "1.Belo Horizonte\n",
            "2.São Paulo\n",
            "3.Rio de Janeiro\n",
            "3\n",
            "temperatura: 24 graus \n",
            "Data e hora: ('07/04/2022', '18:48') \n",
            "Descrição do tempo: Tempo nublado \n",
            "Atualmente noite \n",
            "Umidade: 77 \n",
            "Velocidade do vento: 5.14 km/h \n",
            "Nascer e por do sol: ('06:02 am', '05:46 pm') \n",
            "Condição atual: cloudly_night\n"
          ]
        }
      ]
    }
  ]
}